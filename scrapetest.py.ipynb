{
 "cells": [
  {
   "cell_type": "code",
   "execution_count": 41,
   "metadata": {},
   "outputs": [
    {
     "name": "stdout",
     "output_type": "stream",
     "text": [
      "b'<html>\\n<head>\\n<title> A Useful Page </title>\\n</head>\\n<body>\\n<h1> An interesting Title </h1>\\n<div>\\n\\nOm Asato Maa Sad-Gamaya |\\nTamaso Maa Jyotir-Gamaya |\\nMrtyor-Maa Amrtam Gamaya |\\nOm Shaantih Shaantih Shaantih ||\\n\\n</div>\\n</body>\\n</html>\\n'\n",
      "<class 'http.client.HTTPResponse'>\n"
     ]
    }
   ],
   "source": [
    "\"\"\"\n",
    "urllib is standard Python library and contains functions for requesting data across the web, handling cookies\n",
    "and even changing metadata such as headers and your user agent.\n",
    "\n",
    "urlopen is a function in module urllib.request. It is used to open a remote object across a network and read it.\n",
    "\n",
    "help(urllib)\n",
    "\"\"\"\n",
    "# Importing only function urlopen \n",
    "from urllib.request import urlopen\n",
    "html = urlopen('http://172.17.0.2/page1.html')\n",
    "print(html.read())\n"
   ]
  },
  {
   "cell_type": "code",
   "execution_count": 20,
   "metadata": {},
   "outputs": [
    {
     "name": "stdout",
     "output_type": "stream",
     "text": [
      "<h1> An interesting Title </h1>\n"
     ]
    }
   ],
   "source": [
    "'''\n",
    "Running the beautifulSoup LIBRARY (Python library aka class ) & grabing the header of the Page i.e  \n",
    "*<h1> An interesting Title </h1>*\n",
    "Check and verify  \n",
    "pip list | grep --colour beautifulsoup\n",
    "beautifulsoup4                     4.8.2\n",
    "\n",
    "python3 ex1_script.py \n",
    "<h1>An Interesting Title</h1>\n",
    "\n",
    "If not installed.\n",
    "pip install beautifulsoup4\n",
    "\n",
    "apt-get install python-bs4\n",
    "'''\n",
    "from urllib.request import urlopen\n",
    "from bs4 import BeautifulSoup\n",
    "\n",
    "html = urlopen('http://172.17.0.2/page1.html')\n",
    "bs = BeautifulSoup(html.read(), 'html.parser')\n",
    "# print(bs.find_all)\n",
    "# print(\"\\n\")\n",
    "# print(bs.text)\n",
    "# print(\"\\n\")\n",
    "# print(bs.html)\n",
    "# print(bs.html)\n",
    "print(bs.html.h1)"
   ]
  },
  {
   "cell_type": "code",
   "execution_count": 11,
   "metadata": {},
   "outputs": [
    {
     "name": "stdout",
     "output_type": "stream",
     "text": [
      "<head>\n",
      "<title> A Useful Page </title>\n",
      "</head>\n"
     ]
    }
   ],
   "source": [
    "'''\n",
    " specific parser (\"lxml\", \"lxml-xml\", \"html.parser\", or \"html5lib\") \n",
    " \n",
    "- lxml has some advantages over html.parser, as it's better at parsing \"messy\" or malformed HTML code.\n",
    "  Like it will fixes problems like  unclosed tags, tags that are  improperly nested, and missing head or body\n",
    "  tags. Also it's faster then lxml. Only disadvantage of lxml is that it has to be installed separately and \n",
    "  depends on third-party C libraries to fucntion.\n",
    "  \n",
    "'''\n",
    "from urllib.request import urlopen\n",
    "from bs4 import BeautifulSoup\n",
    "\n",
    "html = urlopen('http://172.17.0.2/page1.html')\n",
    "bs1 = BeautifulSoup(html.read(), 'lxml')\n",
    "print(bs1.head)"
   ]
  },
  {
   "cell_type": "code",
   "execution_count": 45,
   "metadata": {},
   "outputs": [
    {
     "name": "stdout",
     "output_type": "stream",
     "text": [
      "<h1> An interesting Title </h1>\n"
     ]
    }
   ],
   "source": [
    "from urllib.request import urlopen\n",
    "from bs4 import BeautifulSoup\n",
    "\n",
    "html = urlopen('http://172.17.0.2/page1.html')\n",
    "bs2 = BeautifulSoup(html.read(), 'html5lib')\n",
    "print(bs2.h1)"
   ]
  },
  {
   "cell_type": "code",
   "execution_count": 58,
   "metadata": {},
   "outputs": [
    {
     "name": "stdout",
     "output_type": "stream",
     "text": [
      "HTTP Error 404: Not Found\n"
     ]
    }
   ],
   "source": [
    "# The Page is not Found on the server or there was an error  in retrieving it  HTTP Error 404\n",
    "# http://172.17.0.2/*page2.html*\n",
    "\n",
    "from urllib.request import urlopen\n",
    "from urllib.error import HTTPError\n",
    "\n",
    "try:\n",
    "    html = urlopen('http://172.17.0.2/page2.html')\n",
    "except HTTPError as e:\n",
    "        print(e)\n",
    "else:\n",
    "    print(\"Page Found\")\n"
   ]
  },
  {
   "cell_type": "code",
   "execution_count": null,
   "metadata": {},
   "outputs": [],
   "source": [
    "# The server is not found. HTTP ERROR 505\n",
    "\n",
    "from urllib.request import urlopen\n",
    "from urllib.error import URLError\n",
    "\n",
    "try:\n",
    "    html = urlopen('http://172.17.0.2/page1.html')\n",
    "except URLError as e:\n",
    "        print(\"NOT WORKING\")\n",
    "else:\n",
    "    print(html.read())\n"
   ]
  },
  {
   "cell_type": "code",
   "execution_count": 3,
   "metadata": {},
   "outputs": [
    {
     "name": "stdout",
     "output_type": "stream",
     "text": [
      "The server could not be found!\n"
     ]
    }
   ],
   "source": [
    "from urllib.request import urlopen\n",
    "from urllib.error import HTTPError\n",
    "from urllib.error import URLError\n",
    "\n",
    "try:\n",
    "    html = urlopen('http://171.17.0.222/page1.html')\n",
    "except HTTPError as e:\n",
    "    print(\"The server returned an HTTP error\")\n",
    "except URLError as e:\n",
    "    print(\"The server could not be found!\")\n",
    "else:\n",
    "    print(html.read())"
   ]
  },
  {
   "cell_type": "code",
   "execution_count": 1,
   "metadata": {},
   "outputs": [
    {
     "name": "stdout",
     "output_type": "stream",
     "text": [
      "<div>\n",
      "\n",
      "Om Asato Maa Sad-Gamaya |\n",
      "Tamaso Maa Jyotir-Gamaya |\n",
      "Mrtyor-Maa Amrtam Gamaya |\n",
      "Om Shaantih Shaantih Shaantih ||\n",
      "\n",
      "</div>\n"
     ]
    }
   ],
   "source": [
    "from urllib.request import urlopen\n",
    "from urllib.error import HTTPError\n",
    "from bs4 import BeautifulSoup\n",
    "\n",
    "def  getTitle(url):\n",
    "    try:\n",
    "        html = urlopen(url)\n",
    "        \n",
    "    except HTTPError as e:\n",
    "        return None\n",
    "    try:\n",
    "        bs = BeautifulSoup(html.read(), 'html.parser')\n",
    "        title = bs.html.div\n",
    "    except AttributeError as e:\n",
    "        return None\n",
    "    \n",
    "    return title\n",
    "\n",
    "title = getTitle('http://172.17.0.2/page1.html')\n",
    "\n",
    "if title == None:\n",
    "    print('Title cold not be found')\n",
    "else:\n",
    "    print(title)"
   ]
  },
  {
   "cell_type": "code",
   "execution_count": 14,
   "metadata": {},
   "outputs": [
    {
     "name": "stdout",
     "output_type": "stream",
     "text": [
      "<class 'bs4.BeautifulSoup'>\n"
     ]
    }
   ],
   "source": [
    "from urllib.request import urlopen\n",
    "from bs4 import BeautifulSoup\n",
    "\n",
    "html = urlopen('http://172.17.0.2/warandpeace.html')\n",
    "bs = BeautifulSoup(html.read(), 'lxml')\n",
    "print(type(bs))\n",
    "nameList = bs.find_all('span', {'class':'green'})\n",
    "#nameList[0:2]\n",
    "#print(type(nameList))\n",
    "#for name in nameList:\n",
    "#    print(name.get_text())"
   ]
  },
  {
   "cell_type": "code",
   "execution_count": 16,
   "metadata": {},
   "outputs": [
    {
     "name": "stdout",
     "output_type": "stream",
     "text": [
      "Help on method find_all in module bs4.element:\n",
      "\n",
      "find_all(name=None, attrs={}, recursive=True, text=None, limit=None, **kwargs) method of bs4.BeautifulSoup instance\n",
      "    Look in the children of this PageElement and find all\n",
      "    PageElements that match the given criteria.\n",
      "    \n",
      "    All find_* methods take a common set of arguments. See the online\n",
      "    documentation for detailed explanations.\n",
      "    \n",
      "    :param name: A filter on tag name.\n",
      "    :param attrs: A dictionary of filters on attribute values.\n",
      "    :param recursive: If this is True, find_all() will perform a\n",
      "        recursive search of this PageElement's children. Otherwise,\n",
      "        only the direct children will be considered.\n",
      "    :param limit: Stop looking after finding this many results.\n",
      "    :kwargs: A dictionary of filters on attribute values.\n",
      "    :return: A ResultSet of PageElements.\n",
      "    :rtype: bs4.element.ResultSet\n",
      "\n"
     ]
    }
   ],
   "source": [
    "help(bs.find_all)"
   ]
  },
  {
   "cell_type": "code",
   "execution_count": 22,
   "metadata": {},
   "outputs": [
    {
     "name": "stdout",
     "output_type": "stream",
     "text": [
      "[]\n"
     ]
    }
   ],
   "source": [
    "'''\n",
    "find_all(tag, attributes, recursive, text, limit, keywords)\n",
    "'''\n",
    "from urllib.request import urlopen\n",
    "from bs4 import BeautifulSoup\n",
    "\n",
    "html = urlopen('http://172.17.0.2/warandpeace.html')\n",
    "bs = BeautifulSoup(html.read(), 'lxml')\n",
    "title = bs.find_all(id='title', class_='text')\n",
    "print([i for i in title])"
   ]
  },
  {
   "cell_type": "code",
   "execution_count": 25,
   "metadata": {},
   "outputs": [
    {
     "name": "stdout",
     "output_type": "stream",
     "text": [
      "[<h1>War and Peace</h1>, <h2>Chapter 1</h2>]\n"
     ]
    }
   ],
   "source": [
    "from urllib.request import urlopen\n",
    "from bs4 import BeautifulSoup\n",
    "\n",
    "html = urlopen('http://172.17.0.2/warandpeace.html')\n",
    "bs = BeautifulSoup(html.read(), 'html.parser')\n",
    "title = bs.find_all(['h1','h2','h3','h4','h5','h6'])\n",
    "print([i for i in title])"
   ]
  },
  {
   "cell_type": "code",
   "execution_count": null,
   "metadata": {},
   "outputs": [],
   "source": []
  }
 ],
 "metadata": {
  "kernelspec": {
   "display_name": "Python 3",
   "language": "python",
   "name": "python3"
  },
  "language_info": {
   "codemirror_mode": {
    "name": "ipython",
    "version": 3
   },
   "file_extension": ".py",
   "mimetype": "text/x-python",
   "name": "python",
   "nbconvert_exporter": "python",
   "pygments_lexer": "ipython3",
   "version": "3.7.4"
  }
 },
 "nbformat": 4,
 "nbformat_minor": 4
}
